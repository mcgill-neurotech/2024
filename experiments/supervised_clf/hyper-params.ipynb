{
 "cells": [
  {
   "cell_type": "code",
   "execution_count": 1,
   "metadata": {},
   "outputs": [
    {
     "name": "stderr",
     "output_type": "stream",
     "text": [
      "c:\\Users\\rahar\\anaconda3\\envs\\neuro\\lib\\site-packages\\tqdm\\auto.py:21: TqdmWarning: IProgress not found. Please update jupyter and ipywidgets. See https://ipywidgets.readthedocs.io/en/stable/user_install.html\n",
      "  from .autonotebook import tqdm as notebook_tqdm\n"
     ]
    }
   ],
   "source": [
    "import sys\n",
    "sys.path.append(\"../../../motor-imagery-classification-2024/\")\n",
    "\n",
    "import torch\n",
    "from torch import nn\n",
    "import optuna\n",
    "import torchsummary\n",
    "from datetime import datetime\n",
    "import json\n",
    "import numpy as np"
   ]
  },
  {
   "cell_type": "code",
   "execution_count": 2,
   "metadata": {},
   "outputs": [
    {
     "name": "stderr",
     "output_type": "stream",
     "text": [
      "c:\\Users\\rahar\\anaconda3\\envs\\neuro\\lib\\site-packages\\torchaudio\\backend\\utils.py:74: UserWarning: No audio backend is available.\n",
      "  warnings.warn(\"No audio backend is available.\")\n"
     ]
    }
   ],
   "source": [
    "from classification.classifiers import DeepClassifier\n",
    "from classification.loaders import load_data\n",
    "from models.unet.eeg_unets import UnetConfig,Unet,BottleNeckClassifier\n",
    "import lightning as L\n",
    "from lightning import Fabric\n",
    "\n",
    "torch.set_float32_matmul_precision('medium')"
   ]
  },
  {
   "cell_type": "code",
   "execution_count": 3,
   "metadata": {},
   "outputs": [
    {
     "name": "stderr",
     "output_type": "stream",
     "text": [
      "[I 2024-04-18 15:11:42,538] A new study created in memory with name: no-name-144dd24e-4780-471d-b629-cf4fb5374cc6\n"
     ]
    }
   ],
   "source": [
    "pruner = optuna.pruners.MedianPruner(n_startup_trials=5, n_warmup_steps=20)\n",
    "sampler = optuna.samplers.TPESampler(seed=10)\n",
    "study = optuna.create_study(direction=\"maximize\", pruner=pruner,sampler=sampler)"
   ]
  },
  {
   "cell_type": "code",
   "execution_count": 4,
   "metadata": {},
   "outputs": [],
   "source": [
    "dataset = {}\n",
    "for i in range(1,10):\n",
    "\tmat_train,mat_test = load_data(\"../../data/2b_iv/\",i)\n",
    "\tdataset[f\"subject_{i}\"] = {\"train\":mat_train,\"test\":mat_test}"
   ]
  },
  {
   "cell_type": "code",
   "execution_count": 5,
   "metadata": {},
   "outputs": [
    {
     "name": "stderr",
     "output_type": "stream",
     "text": [
      "Using bfloat16 Automatic Mixed Precision (AMP)\n"
     ]
    }
   ],
   "source": [
    "FABRIC = Fabric(accelerator=\"cuda\",precision=\"bf16-mixed\")"
   ]
  },
  {
   "cell_type": "code",
   "execution_count": 6,
   "metadata": {},
   "outputs": [],
   "source": [
    "with open(r\"params_2024_03_30_12_29.json\",\"r\") as f:\n",
    "\tparams = json.load(f)"
   ]
  },
  {
   "cell_type": "code",
   "execution_count": 7,
   "metadata": {},
   "outputs": [
    {
     "data": {
      "text/plain": [
       "{'conv_kernel': 19,\n",
       " 'max_channels': 256,\n",
       " 'pool_op': 'avg',\n",
       " 'starting_channels': 32,\n",
       " 'residual': True,\n",
       " 'conv_drop': 0.0,\n",
       " 'mlp_dim': 128,\n",
       " 'lr': 0.000330227306657115,\n",
       " 'weight_decay': 1.9723511474610607e-06}"
      ]
     },
     "execution_count": 7,
     "metadata": {},
     "output_type": "execute_result"
    }
   ],
   "source": [
    "params"
   ]
  },
  {
   "cell_type": "code",
   "execution_count": 8,
   "metadata": {},
   "outputs": [],
   "source": [
    "conv_kernel = params[\"conv_kernel\"]\n",
    "bottleneck_dim = params[\"max_channels\"]\n",
    "pool = params[\"pool_op\"]\n",
    "\n",
    "pool_op = nn.AvgPool1d if pool == \"avg\" else nn.MaxPool1d\n",
    "\n",
    "config = UnetConfig(\n",
    "\tinput_shape=(256),\n",
    "\tinput_channels=3,\n",
    "\tconv_op=nn.Conv1d,\n",
    "\tnorm_op=nn.InstanceNorm1d,\n",
    "\tnon_lin=nn.ReLU,\n",
    "\tpool_op=pool_op,\n",
    "\tup_op=nn.ConvTranspose1d,\n",
    "\tstarting_channels=params[\"starting_channels\"],\n",
    "\tmax_channels=bottleneck_dim,\n",
    "\tconv_group=1,\n",
    "\tconv_kernel=conv_kernel,\n",
    "\tconv_padding=conv_kernel//2,\n",
    "\tpool_fact=2,\n",
    "\tdeconv_group=1,\n",
    "\tdeconv_padding=(0),\n",
    "\tdeconv_kernel=(2),\n",
    "\tdeconv_stride=(2),\n",
    "\tresidual=params[\"residual\"],\n",
    "\tconv_pdrop=params[\"conv_drop\"]\n",
    ")\n",
    "\n",
    "classifier = BottleNeckClassifier((bottleneck_dim,params[\"mlp_dim\"]),pool=\"max\")\n",
    "\n",
    "unet = Unet(config,classifier)\n",
    "unet.to(\"cuda\")\n",
    "\n",
    "train_split = 3*[[\"train\",\"test\"]] +  3*[[\"train\"]] + 3*[[\"train\",\"test\"]] \n",
    "test_split = + 3*[[]]+ 3* [[\"test\"]] + 3*[[]]\n",
    "\n",
    "lr = params[\"lr\"]\n",
    "weight_decay = params[\"weight_decay\"]\n"
   ]
  },
  {
   "cell_type": "code",
   "execution_count": 9,
   "metadata": {},
   "outputs": [],
   "source": [
    "clf = DeepClassifier(unet,\n",
    "\t\t\t\t\t dataset,\n",
    "\t\t\t\t\t train_split,\n",
    "\t\t\t\t\t test_split,\n",
    "\t\t\t\t\t length=2.5,\n",
    "\t\t\t\t\t index_cutoff=256)"
   ]
  },
  {
   "cell_type": "code",
   "execution_count": 10,
   "metadata": {},
   "outputs": [
    {
     "name": "stdout",
     "output_type": "stream",
     "text": [
      "Finished Training\n",
      "---\n",
      "reached an accuracy of 74.55540355677155\n",
      "---\n",
      "Finished Training\n",
      "---\n",
      "reached an accuracy of 58.88324873096447\n",
      "---\n",
      "Finished Training\n",
      "---\n",
      "reached an accuracy of 70.3601108033241\n",
      "---\n"
     ]
    }
   ],
   "source": [
    "accuracies = clf.k_fold_cv(fabric=FABRIC,\n",
    "\t\t\t  k=3,\n",
    "\t\t\t  n=9,\n",
    "\t\t\t  lr=lr,\n",
    "\t\t\t  weight_decay=weight_decay,\n",
    "\t\t\t  verbose=False,\n",
    "\t\t\t  leave_out=False)"
   ]
  },
  {
   "cell_type": "markdown",
   "metadata": {},
   "source": [
    "- 73% 9-fold CV for 1s"
   ]
  }
 ],
 "metadata": {
  "kernelspec": {
   "display_name": "neuro",
   "language": "python",
   "name": "python3"
  },
  "language_info": {
   "codemirror_mode": {
    "name": "ipython",
    "version": 3
   },
   "file_extension": ".py",
   "mimetype": "text/x-python",
   "name": "python",
   "nbconvert_exporter": "python",
   "pygments_lexer": "ipython3",
   "version": "3.10.12"
  }
 },
 "nbformat": 4,
 "nbformat_minor": 2
}
