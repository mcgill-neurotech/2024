{
 "cells": [
  {
   "cell_type": "code",
   "execution_count": 15,
   "metadata": {},
   "outputs": [],
   "source": [
    "import sys\n",
    "sys.path.append(\"../../../motor-imagery-classification-2024/\")\n",
    "import os\n",
    "import torch\n",
    "from torch import nn\n",
    "import optuna\n",
    "import torchsummary\n",
    "from datetime import datetime\n",
    "import json\n",
    "import numpy as np\n",
    "from classification.classifiers import DeepClassifier\n",
    "from classification.loaders import load_data\n",
    "from classification.open_bci_loaders import OpenBCIDataset,OpenBCISubject,load_files\n",
    "from models.unet.eeg_unets import UnetConfig,Unet,BottleNeckClassifier\n",
    "import lightning as L\n",
    "from lightning import Fabric\n",
    "from pytorch_lightning.utilities.model_summary import ModelSummary\n",
    "\n",
    "torch.set_float32_matmul_precision('medium')"
   ]
  },
  {
   "cell_type": "code",
   "execution_count": 16,
   "metadata": {},
   "outputs": [],
   "source": [
    "from models.unet import base_eegnet"
   ]
  },
  {
   "cell_type": "code",
   "execution_count": 17,
   "metadata": {},
   "outputs": [
    {
     "name": "stderr",
     "output_type": "stream",
     "text": [
      "Seed set to 42\n"
     ]
    },
    {
     "data": {
      "text/plain": [
       "42"
      ]
     },
     "execution_count": 17,
     "metadata": {},
     "output_type": "execute_result"
    }
   ],
   "source": [
    "L.seed_everything(42)"
   ]
  },
  {
   "cell_type": "code",
   "execution_count": 18,
   "metadata": {},
   "outputs": [
    {
     "name": "stdout",
     "output_type": "stream",
     "text": [
      "path d:\\Machine learning\\MI SSL\\motor-imagery-classification-2024\\experiments\\supervised_clf\n",
      "Saving new data\n",
      "(1984, 2, 512)\n",
      "(1984,)\n",
      "final data shape: (1984, 2, 512)\n",
      "Saving new data\n",
      "(992, 2, 512)\n",
      "(992,)\n",
      "final data shape: (992, 2, 512)\n"
     ]
    }
   ],
   "source": [
    "print(f\"path {os.getcwd()}\")\n",
    "files = load_files(\"../../data/collected_data/\")\n",
    "train_split = 2*[[\"train\"]]\n",
    "test_split = 2*[[\"test\"]]\n",
    "save_path = os.path.join(\"processed\",\"raw\")\n",
    "csp_save_path = os.path.join(\"processed\",\"data/collected_data/csp\")\n",
    "\n",
    "train_csp_dataset = OpenBCIDataset(\n",
    "\tsubject_splits=train_split,\n",
    "\tdataset=files,\n",
    "\tsave_paths=[csp_save_path],\n",
    "\tfake_data=None,\n",
    "\tdataset_type=OpenBCISubject,\n",
    "\tchannels=np.arange(0,2),\n",
    "\tsubject_channels=[\"ch2\",\"ch5\"],\n",
    "\tstride=25,\n",
    "\tepoch_length=512\n",
    ")\n",
    "\n",
    "test_csp_dataset = OpenBCIDataset(\n",
    "\tsubject_splits=test_split,\n",
    "\tdatasechannels=np.arange(0,2),\n",
    "\tsubject_channels=[\"ch2\",\"ch5\"],\n",
    "\tstride=25,\n",
    "\tepoch_length=512t=files,\n",
    "\tsave_paths=[csp_save_path],\n",
    "\tfake_data=None,\n",
    "\tdataset_type=OpenBCISubject,\n",
    "\t\n",
    ")"
   ]
  },
  {
   "cell_type": "code",
   "execution_count": 19,
   "metadata": {},
   "outputs": [],
   "source": [
    "model = base_eegnet.EEGNet(2,224)"
   ]
  },
  {
   "cell_type": "code",
   "execution_count": 20,
   "metadata": {},
   "outputs": [
    {
     "data": {
      "text/plain": [
       "   | Name       | Type        | Params\n",
       "--------------------------------------------\n",
       "0  | conv1      | Conv2d      | 2.1 K \n",
       "1  | batchnorm1 | BatchNorm2d | 32    \n",
       "2  | padding1   | ZeroPad2d   | 0     \n",
       "3  | conv2      | Conv2d      | 260   \n",
       "4  | batchnorm2 | BatchNorm2d | 8     \n",
       "5  | pooling2   | MaxPool2d   | 0     \n",
       "6  | padding2   | ZeroPad2d   | 0     \n",
       "7  | conv3      | Conv2d      | 516   \n",
       "8  | batchnorm3 | BatchNorm2d | 8     \n",
       "9  | pooling3   | MaxPool2d   | 0     \n",
       "10 | out_proj   | Linear      | 450   \n",
       "--------------------------------------------\n",
       "3.3 K     Trainable params\n",
       "0         Non-trainable params\n",
       "3.3 K     Total params\n",
       "0.013     Total estimated model params size (MB)"
      ]
     },
     "execution_count": 20,
     "metadata": {},
     "output_type": "execute_result"
    }
   ],
   "source": [
    "ModelSummary(model)"
   ]
  },
  {
   "cell_type": "code",
   "execution_count": 21,
   "metadata": {},
   "outputs": [
    {
     "name": "stdout",
     "output_type": "stream",
     "text": [
      "Loading saved data\n",
      "(1984, 2, 512)\n",
      "(1984,)\n",
      "final data shape: (1984, 2, 512)\n",
      "Loading saved data\n",
      "(992, 2, 512)\n",
      "(992,)\n",
      "final data shape: (992, 2, 512)\n"
     ]
    }
   ],
   "source": [
    "clf = DeepClassifier(\n",
    "\tmodel=model,\n",
    "\tsave_paths=[csp_save_path],\n",
    "\ttrain_split=train_split,\n",
    "\ttest_split=test_split,\n",
    "\tdataset=None,\n",
    "\tdataset_type=OpenBCIDataset,\n",
    "\tsubject_dataset_type=OpenBCISubject,\n",
    "\tchannels=np.arange(0,2),\n",
    "\tsubject_channels=[\"ch2\",\"ch5\"],\n",
    "\tstride=25,\n",
    "\tepoch_length=512,\n",
    "\tindex_cutoff=512\n",
    "\t)"
   ]
  },
  {
   "cell_type": "code",
   "execution_count": 22,
   "metadata": {},
   "outputs": [
    {
     "data": {
      "text/plain": [
       "torch.Size([32, 2, 512])"
      ]
     },
     "execution_count": 22,
     "metadata": {},
     "output_type": "execute_result"
    }
   ],
   "source": [
    "clf.sample_batch().shape"
   ]
  },
  {
   "cell_type": "code",
   "execution_count": 23,
   "metadata": {},
   "outputs": [
    {
     "name": "stderr",
     "output_type": "stream",
     "text": [
      "Using bfloat16 Automatic Mixed Precision (AMP)\n"
     ]
    },
    {
     "name": "stdout",
     "output_type": "stream",
     "text": [
      "checkpointing\n",
      "Epoch [1/32], Training Loss: 0.737, Training Accuracy: 52.12%, Validation Loss: 0.700, Validation Accuracy: 52.62%\n",
      "Min loss: 0.700439453125 vs 0.705322265625\n",
      "Epoch [2/32], Training Loss: 0.707, Training Accuracy: 54.33%, Validation Loss: 0.705, Validation Accuracy: 52.42%\n",
      "checkpointing\n",
      "Epoch [3/32], Training Loss: 0.706, Training Accuracy: 55.34%, Validation Loss: 0.697, Validation Accuracy: 56.05%\n",
      "checkpointing\n",
      "Epoch [4/32], Training Loss: 0.681, Training Accuracy: 56.30%, Validation Loss: 0.693, Validation Accuracy: 56.25%\n",
      "Min loss: 0.693115234375 vs 0.705078125\n",
      "Epoch [5/32], Training Loss: 0.682, Training Accuracy: 57.91%, Validation Loss: 0.705, Validation Accuracy: 50.40%\n",
      "Min loss: 0.693115234375 vs 0.6953125\n",
      "Epoch [6/32], Training Loss: 0.682, Training Accuracy: 58.37%, Validation Loss: 0.695, Validation Accuracy: 53.23%\n",
      "checkpointing\n",
      "Epoch [7/32], Training Loss: 0.676, Training Accuracy: 57.86%, Validation Loss: 0.692, Validation Accuracy: 52.02%\n",
      "Min loss: 0.691650390625 vs 0.70068359375\n",
      "Epoch [8/32], Training Loss: 0.669, Training Accuracy: 58.27%, Validation Loss: 0.701, Validation Accuracy: 53.02%\n",
      "checkpointing\n",
      "Epoch [9/32], Training Loss: 0.665, Training Accuracy: 59.58%, Validation Loss: 0.686, Validation Accuracy: 57.66%\n",
      "Min loss: 0.685546875 vs 0.6943359375\n",
      "Epoch [10/32], Training Loss: 0.654, Training Accuracy: 60.94%, Validation Loss: 0.694, Validation Accuracy: 55.65%\n",
      "Min loss: 0.685546875 vs 0.6953125\n",
      "Epoch [11/32], Training Loss: 0.648, Training Accuracy: 62.15%, Validation Loss: 0.695, Validation Accuracy: 56.45%\n",
      "Min loss: 0.685546875 vs 0.7080078125\n",
      "Epoch [12/32], Training Loss: 0.634, Training Accuracy: 62.95%, Validation Loss: 0.708, Validation Accuracy: 54.23%\n",
      "Min loss: 0.685546875 vs 0.73046875\n",
      "Epoch [13/32], Training Loss: 0.637, Training Accuracy: 62.95%, Validation Loss: 0.730, Validation Accuracy: 53.43%\n",
      "Min loss: 0.685546875 vs 0.732421875\n",
      "Epoch [14/32], Training Loss: 0.623, Training Accuracy: 64.97%, Validation Loss: 0.732, Validation Accuracy: 48.99%\n",
      "Min loss: 0.685546875 vs 0.757568359375\n",
      "Epoch [15/32], Training Loss: 0.607, Training Accuracy: 66.43%, Validation Loss: 0.758, Validation Accuracy: 51.21%\n",
      "Min loss: 0.685546875 vs 0.727783203125\n",
      "Epoch [16/32], Training Loss: 0.598, Training Accuracy: 67.79%, Validation Loss: 0.728, Validation Accuracy: 57.26%\n",
      "Min loss: 0.685546875 vs 0.76953125\n",
      "Epoch [17/32], Training Loss: 0.585, Training Accuracy: 69.25%, Validation Loss: 0.770, Validation Accuracy: 53.02%\n",
      "Min loss: 0.685546875 vs 0.751953125\n",
      "Epoch [18/32], Training Loss: 0.565, Training Accuracy: 69.46%, Validation Loss: 0.752, Validation Accuracy: 54.44%\n",
      "Min loss: 0.685546875 vs 0.77734375\n",
      "Epoch [19/32], Training Loss: 0.541, Training Accuracy: 73.84%, Validation Loss: 0.777, Validation Accuracy: 55.04%\n",
      "Min loss: 0.685546875 vs 0.773193359375\n",
      "Epoch [20/32], Training Loss: 0.503, Training Accuracy: 75.81%, Validation Loss: 0.773, Validation Accuracy: 58.06%\n",
      "Min loss: 0.685546875 vs 0.79443359375\n",
      "Epoch [21/32], Training Loss: 0.498, Training Accuracy: 75.55%, Validation Loss: 0.794, Validation Accuracy: 56.85%\n",
      "Min loss: 0.685546875 vs 0.80029296875\n",
      "Epoch [22/32], Training Loss: 0.466, Training Accuracy: 78.63%, Validation Loss: 0.800, Validation Accuracy: 59.48%\n",
      "Min loss: 0.685546875 vs 0.745361328125\n",
      "Epoch [23/32], Training Loss: 0.434, Training Accuracy: 78.88%, Validation Loss: 0.745, Validation Accuracy: 59.68%\n",
      "Min loss: 0.685546875 vs 0.73876953125\n",
      "Epoch [24/32], Training Loss: 0.422, Training Accuracy: 80.14%, Validation Loss: 0.739, Validation Accuracy: 58.87%\n",
      "Min loss: 0.685546875 vs 0.812744140625\n",
      "Epoch [25/32], Training Loss: 0.369, Training Accuracy: 83.92%, Validation Loss: 0.813, Validation Accuracy: 58.47%\n",
      "Min loss: 0.685546875 vs 0.739990234375\n",
      "Epoch [26/32], Training Loss: 0.342, Training Accuracy: 85.28%, Validation Loss: 0.740, Validation Accuracy: 63.10%\n",
      "Min loss: 0.685546875 vs 0.768798828125\n",
      "Epoch [27/32], Training Loss: 0.319, Training Accuracy: 86.74%, Validation Loss: 0.769, Validation Accuracy: 61.69%\n",
      "Min loss: 0.685546875 vs 0.796630859375\n",
      "Epoch [28/32], Training Loss: 0.294, Training Accuracy: 87.35%, Validation Loss: 0.797, Validation Accuracy: 60.28%\n",
      "Min loss: 0.685546875 vs 0.7110595703125\n",
      "Epoch [29/32], Training Loss: 0.287, Training Accuracy: 88.10%, Validation Loss: 0.711, Validation Accuracy: 64.92%\n",
      "Min loss: 0.685546875 vs 0.84716796875\n",
      "Epoch [30/32], Training Loss: 0.252, Training Accuracy: 89.42%, Validation Loss: 0.847, Validation Accuracy: 61.49%\n",
      "Min loss: 0.685546875 vs 0.819580078125\n",
      "Epoch [31/32], Training Loss: 0.234, Training Accuracy: 90.22%, Validation Loss: 0.820, Validation Accuracy: 62.90%\n",
      "Min loss: 0.685546875 vs 0.811767578125\n",
      "Epoch [32/32], Training Loss: 0.219, Training Accuracy: 91.03%, Validation Loss: 0.812, Validation Accuracy: 65.32%\n",
      "Finished Training\n"
     ]
    },
    {
     "data": {
      "text/plain": [
       "65.3225806451613"
      ]
     },
     "execution_count": 23,
     "metadata": {},
     "output_type": "execute_result"
    }
   ],
   "source": [
    "lr = 4E-4\n",
    "weight_decay = 2E-6\n",
    "FABRIC = Fabric(accelerator=\"cuda\",precision=\"bf16-mixed\")\n",
    "clf.fit(FABRIC,32,lr,weight_decay)"
   ]
  },
  {
   "cell_type": "code",
   "execution_count": 43,
   "metadata": {},
   "outputs": [
    {
     "data": {
      "text/plain": [
       "Unet(\n",
       "  (encoder): ModuleList(\n",
       "    (0): Encode(\n",
       "      (convdown): Convdown(\n",
       "        (c1): Conv1d(2, 16, kernel_size=(7,), stride=(1,), padding=(3,))\n",
       "        (c2): Conv1d(16, 16, kernel_size=(7,), stride=(1,), padding=(3,))\n",
       "        (drop): Dropout(p=0.25, inplace=False)\n",
       "        (instance_norm): InstanceNorm1d(16, eps=1e-05, momentum=0.1, affine=False, track_running_stats=False)\n",
       "        (non_lin): ReLU()\n",
       "      )\n",
       "      (pool): MaxPool1d(kernel_size=2, stride=2, padding=0, dilation=1, ceil_mode=False)\n",
       "    )\n",
       "    (1): Encode(\n",
       "      (convdown): Convdown(\n",
       "        (c1): Conv1d(16, 32, kernel_size=(7,), stride=(1,), padding=(3,))\n",
       "        (c2): Conv1d(32, 32, kernel_size=(7,), stride=(1,), padding=(3,))\n",
       "        (drop): Dropout(p=0.25, inplace=False)\n",
       "        (instance_norm): InstanceNorm1d(32, eps=1e-05, momentum=0.1, affine=False, track_running_stats=False)\n",
       "        (non_lin): ReLU()\n",
       "      )\n",
       "      (pool): MaxPool1d(kernel_size=2, stride=2, padding=0, dilation=1, ceil_mode=False)\n",
       "    )\n",
       "    (2): Encode(\n",
       "      (convdown): Convdown(\n",
       "        (c1): Conv1d(32, 64, kernel_size=(7,), stride=(1,), padding=(3,))\n",
       "        (c2): Conv1d(64, 64, kernel_size=(7,), stride=(1,), padding=(3,))\n",
       "        (drop): Dropout(p=0.25, inplace=False)\n",
       "        (instance_norm): InstanceNorm1d(64, eps=1e-05, momentum=0.1, affine=False, track_running_stats=False)\n",
       "        (non_lin): ReLU()\n",
       "      )\n",
       "      (pool): MaxPool1d(kernel_size=2, stride=2, padding=0, dilation=1, ceil_mode=False)\n",
       "    )\n",
       "    (3-4): 2 x Encode(\n",
       "      (convdown): Convdown(\n",
       "        (c1): Conv1d(64, 64, kernel_size=(7,), stride=(1,), padding=(3,))\n",
       "        (c2): Conv1d(64, 64, kernel_size=(7,), stride=(1,), padding=(3,))\n",
       "        (drop): Dropout(p=0.25, inplace=False)\n",
       "        (instance_norm): InstanceNorm1d(64, eps=1e-05, momentum=0.1, affine=False, track_running_stats=False)\n",
       "        (non_lin): ReLU()\n",
       "      )\n",
       "      (pool): MaxPool1d(kernel_size=2, stride=2, padding=0, dilation=1, ceil_mode=False)\n",
       "    )\n",
       "  )\n",
       "  (decoder): ModuleList(\n",
       "    (0-2): 3 x Decode(\n",
       "      (deconv): ConvTranspose1d(64, 64, kernel_size=(2,), stride=(2,))\n",
       "      (conv): Convdown(\n",
       "        (c1): Conv1d(128, 64, kernel_size=(7,), stride=(1,), padding=(3,))\n",
       "        (c2): Conv1d(64, 64, kernel_size=(7,), stride=(1,), padding=(3,))\n",
       "        (drop): Dropout(p=0.25, inplace=False)\n",
       "        (instance_norm): InstanceNorm1d(64, eps=1e-05, momentum=0.1, affine=False, track_running_stats=False)\n",
       "        (non_lin): ReLU()\n",
       "      )\n",
       "    )\n",
       "    (3): Decode(\n",
       "      (deconv): ConvTranspose1d(64, 32, kernel_size=(2,), stride=(2,))\n",
       "      (conv): Convdown(\n",
       "        (c1): Conv1d(64, 32, kernel_size=(7,), stride=(1,), padding=(3,))\n",
       "        (c2): Conv1d(32, 32, kernel_size=(7,), stride=(1,), padding=(3,))\n",
       "        (drop): Dropout(p=0.25, inplace=False)\n",
       "        (instance_norm): InstanceNorm1d(32, eps=1e-05, momentum=0.1, affine=False, track_running_stats=False)\n",
       "        (non_lin): ReLU()\n",
       "      )\n",
       "    )\n",
       "    (4): Decode(\n",
       "      (deconv): ConvTranspose1d(32, 16, kernel_size=(2,), stride=(2,))\n",
       "      (conv): Convdown(\n",
       "        (c1): Conv1d(32, 16, kernel_size=(7,), stride=(1,), padding=(3,))\n",
       "        (c2): Conv1d(16, 16, kernel_size=(7,), stride=(1,), padding=(3,))\n",
       "        (drop): Dropout(p=0.25, inplace=False)\n",
       "        (instance_norm): InstanceNorm1d(16, eps=1e-05, momentum=0.1, affine=False, track_running_stats=False)\n",
       "        (non_lin): ReLU()\n",
       "      )\n",
       "    )\n",
       "  )\n",
       "  (auxiliary_clf): BottleNeckClassifier(\n",
       "    (mlp): ModuleList(\n",
       "      (0): Linear(in_features=64, out_features=2, bias=True)\n",
       "    )\n",
       "  )\n",
       "  (middle_conv): Convdown(\n",
       "    (c1): Conv1d(64, 64, kernel_size=(7,), stride=(1,), padding=(3,))\n",
       "    (c2): Conv1d(64, 64, kernel_size=(7,), stride=(1,), padding=(3,))\n",
       "    (drop): Dropout(p=0.25, inplace=False)\n",
       "    (instance_norm): InstanceNorm1d(64, eps=1e-05, momentum=0.1, affine=False, track_running_stats=False)\n",
       "    (non_lin): ReLU()\n",
       "  )\n",
       "  (output_conv): Conv1d(16, 2, kernel_size=(1,), stride=(1,))\n",
       ")"
      ]
     },
     "execution_count": 43,
     "metadata": {},
     "output_type": "execute_result"
    }
   ],
   "source": [
    "config = UnetConfig(\n",
    "\tinput_shape=(256),\n",
    "\tinput_channels=2,\n",
    "\tconv_op=nn.Conv1d,\n",
    "\tnorm_op=nn.InstanceNorm1d,\n",
    "\tnon_lin=nn.ReLU,\n",
    "\tpool_op=nn.MaxPool1d,\n",
    "\tup_op=nn.ConvTranspose1d,\n",
    "\tstarting_channels=16,\n",
    "\tmax_channels=64,\n",
    "\tconv_group=1,\n",
    "\tconv_kernel=(7),\n",
    "\tconv_padding=7//2,\n",
    "\tpool_fact=2,\n",
    "\tdeconv_group=1,\n",
    "\tdeconv_padding=(0),\n",
    "\tdeconv_kernel=(2),\n",
    "\tdeconv_stride=(2),\n",
    "\tresidual=True,\n",
    "\tconv_pdrop=0.25\n",
    ")\n",
    "\n",
    "classifier = BottleNeckClassifier([64],pool=\"max\")\n",
    "\n",
    "unet = Unet(config,classifier)\n",
    "unet.to(\"cuda\")\n"
   ]
  },
  {
   "cell_type": "code",
   "execution_count": 44,
   "metadata": {},
   "outputs": [
    {
     "data": {
      "text/plain": [
       "  | Name          | Type                 | Params\n",
       "-------------------------------------------------------\n",
       "0 | encoder       | ModuleList           | 170 K \n",
       "1 | decoder       | ModuleList           | 315 K \n",
       "2 | auxiliary_clf | BottleNeckClassifier | 130   \n",
       "3 | middle_conv   | Convdown             | 57.5 K\n",
       "4 | output_conv   | Conv1d               | 34    \n",
       "-------------------------------------------------------\n",
       "543 K     Trainable params\n",
       "0         Non-trainable params\n",
       "543 K     Total params\n",
       "2.176     Total estimated model params size (MB)"
      ]
     },
     "execution_count": 44,
     "metadata": {},
     "output_type": "execute_result"
    }
   ],
   "source": [
    "ModelSummary(unet)"
   ]
  },
  {
   "cell_type": "code",
   "execution_count": 45,
   "metadata": {},
   "outputs": [
    {
     "name": "stdout",
     "output_type": "stream",
     "text": [
      "Loading saved data\n",
      "(1984, 2, 512)\n",
      "(1984,)\n",
      "final data shape: (1984, 2, 512)\n",
      "Loading saved data\n",
      "(992, 2, 512)\n",
      "(992,)\n",
      "final data shape: (992, 2, 512)\n"
     ]
    }
   ],
   "source": [
    "unet_clf = DeepClassifier(\n",
    "\tmodel=unet,\n",
    "\tsave_paths=[csp_save_path],\n",
    "\ttrain_split=train_split,\n",
    "\ttest_split=test_split,\n",
    "\tdataset=None,\n",
    "\tdataset_type=OpenBCIDataset,\n",
    "\tsubject_dataset_type=OpenBCISubject,\n",
    "\tchannels=np.arange(0,2),\n",
    "\tsubject_channels=[\"ch2\",\"ch5\"],\n",
    "\tstride=25,\n",
    "\tepoch_length=512,\n",
    "\tindex_cutoff=512\n",
    "\t)"
   ]
  },
  {
   "cell_type": "code",
   "execution_count": 46,
   "metadata": {},
   "outputs": [
    {
     "name": "stdout",
     "output_type": "stream",
     "text": [
      "checkpointing\n",
      "Epoch [1/32], Training Loss: 0.737, Training Accuracy: 50.96%, Validation Loss: 0.728, Validation Accuracy: 50.40%\n",
      "checkpointing\n",
      "Epoch [2/32], Training Loss: 0.724, Training Accuracy: 50.30%, Validation Loss: 0.705, Validation Accuracy: 53.23%\n",
      "Min loss: 0.705322265625 vs 0.731201171875\n",
      "Epoch [3/32], Training Loss: 0.715, Training Accuracy: 51.66%, Validation Loss: 0.731, Validation Accuracy: 48.99%\n",
      "Min loss: 0.705322265625 vs 0.729248046875\n",
      "Epoch [4/32], Training Loss: 0.708, Training Accuracy: 51.26%, Validation Loss: 0.729, Validation Accuracy: 47.78%\n",
      "Min loss: 0.705322265625 vs 0.728759765625\n",
      "Epoch [5/32], Training Loss: 0.709, Training Accuracy: 51.21%, Validation Loss: 0.729, Validation Accuracy: 46.77%\n",
      "Min loss: 0.705322265625 vs 0.708740234375\n",
      "Epoch [6/32], Training Loss: 0.697, Training Accuracy: 54.03%, Validation Loss: 0.709, Validation Accuracy: 49.80%\n",
      "Min loss: 0.705322265625 vs 0.718994140625\n",
      "Epoch [7/32], Training Loss: 0.693, Training Accuracy: 53.73%, Validation Loss: 0.719, Validation Accuracy: 53.63%\n",
      "Min loss: 0.705322265625 vs 0.730712890625\n",
      "Epoch [8/32], Training Loss: 0.703, Training Accuracy: 52.87%, Validation Loss: 0.731, Validation Accuracy: 51.61%\n",
      "Min loss: 0.705322265625 vs 0.71826171875\n",
      "Epoch [9/32], Training Loss: 0.692, Training Accuracy: 55.54%, Validation Loss: 0.718, Validation Accuracy: 51.41%\n",
      "checkpointing\n",
      "Epoch [10/32], Training Loss: 0.697, Training Accuracy: 53.18%, Validation Loss: 0.703, Validation Accuracy: 48.19%\n",
      "checkpointing\n",
      "Epoch [11/32], Training Loss: 0.685, Training Accuracy: 56.80%, Validation Loss: 0.691, Validation Accuracy: 54.44%\n",
      "Min loss: 0.69091796875 vs 0.69921875\n",
      "Epoch [12/32], Training Loss: 0.685, Training Accuracy: 55.90%, Validation Loss: 0.699, Validation Accuracy: 54.03%\n",
      "Min loss: 0.69091796875 vs 0.707763671875\n",
      "Epoch [13/32], Training Loss: 0.682, Training Accuracy: 56.85%, Validation Loss: 0.708, Validation Accuracy: 51.41%\n",
      "Min loss: 0.69091796875 vs 0.708251953125\n",
      "Epoch [14/32], Training Loss: 0.678, Training Accuracy: 58.57%, Validation Loss: 0.708, Validation Accuracy: 51.61%\n",
      "Min loss: 0.69091796875 vs 0.70849609375\n",
      "Epoch [15/32], Training Loss: 0.664, Training Accuracy: 59.38%, Validation Loss: 0.708, Validation Accuracy: 51.81%\n",
      "Min loss: 0.69091796875 vs 0.70654296875\n",
      "Epoch [16/32], Training Loss: 0.667, Training Accuracy: 59.63%, Validation Loss: 0.707, Validation Accuracy: 53.63%\n",
      "Min loss: 0.69091796875 vs 0.70166015625\n",
      "Epoch [17/32], Training Loss: 0.664, Training Accuracy: 60.28%, Validation Loss: 0.702, Validation Accuracy: 54.44%\n",
      "Min loss: 0.69091796875 vs 0.720458984375\n",
      "Epoch [18/32], Training Loss: 0.672, Training Accuracy: 58.92%, Validation Loss: 0.720, Validation Accuracy: 52.02%\n",
      "checkpointing\n",
      "Epoch [19/32], Training Loss: 0.677, Training Accuracy: 59.83%, Validation Loss: 0.680, Validation Accuracy: 56.05%\n",
      "checkpointing\n",
      "Epoch [20/32], Training Loss: 0.667, Training Accuracy: 60.84%, Validation Loss: 0.664, Validation Accuracy: 61.09%\n",
      "Min loss: 0.6640625 vs 0.666748046875\n",
      "Epoch [21/32], Training Loss: 0.671, Training Accuracy: 59.22%, Validation Loss: 0.667, Validation Accuracy: 60.69%\n",
      "Min loss: 0.6640625 vs 0.67431640625\n",
      "Epoch [22/32], Training Loss: 0.678, Training Accuracy: 58.22%, Validation Loss: 0.674, Validation Accuracy: 57.46%\n",
      "checkpointing\n",
      "Epoch [23/32], Training Loss: 0.666, Training Accuracy: 58.97%, Validation Loss: 0.656, Validation Accuracy: 61.09%\n",
      "Min loss: 0.65625 vs 0.6943359375\n",
      "Epoch [24/32], Training Loss: 0.662, Training Accuracy: 60.33%, Validation Loss: 0.694, Validation Accuracy: 56.65%\n",
      "Min loss: 0.65625 vs 0.694580078125\n",
      "Epoch [25/32], Training Loss: 0.659, Training Accuracy: 59.63%, Validation Loss: 0.695, Validation Accuracy: 54.44%\n",
      "Min loss: 0.65625 vs 0.6884765625\n",
      "Epoch [26/32], Training Loss: 0.664, Training Accuracy: 60.13%, Validation Loss: 0.688, Validation Accuracy: 56.65%\n",
      "Min loss: 0.65625 vs 0.68896484375\n",
      "Epoch [27/32], Training Loss: 0.663, Training Accuracy: 60.08%, Validation Loss: 0.689, Validation Accuracy: 56.45%\n",
      "Min loss: 0.65625 vs 0.689208984375\n",
      "Epoch [28/32], Training Loss: 0.656, Training Accuracy: 60.94%, Validation Loss: 0.689, Validation Accuracy: 55.85%\n",
      "Min loss: 0.65625 vs 0.704345703125\n",
      "Epoch [29/32], Training Loss: 0.645, Training Accuracy: 63.36%, Validation Loss: 0.704, Validation Accuracy: 54.23%\n",
      "Min loss: 0.65625 vs 0.688720703125\n",
      "Epoch [30/32], Training Loss: 0.641, Training Accuracy: 63.61%, Validation Loss: 0.689, Validation Accuracy: 54.64%\n",
      "Min loss: 0.65625 vs 0.729736328125\n",
      "Epoch [31/32], Training Loss: 0.642, Training Accuracy: 63.86%, Validation Loss: 0.730, Validation Accuracy: 54.64%\n",
      "Min loss: 0.65625 vs 0.72216796875\n",
      "Epoch [32/32], Training Loss: 0.632, Training Accuracy: 64.06%, Validation Loss: 0.722, Validation Accuracy: 52.42%\n",
      "Finished Training\n"
     ]
    },
    {
     "data": {
      "text/plain": [
       "61.08870967741935"
      ]
     },
     "execution_count": 46,
     "metadata": {},
     "output_type": "execute_result"
    }
   ],
   "source": [
    "unet_clf.fit(FABRIC,32,lr,weight_decay)"
   ]
  },
  {
   "cell_type": "code",
   "execution_count": null,
   "metadata": {},
   "outputs": [],
   "source": []
  }
 ],
 "metadata": {
  "kernelspec": {
   "display_name": "neuro",
   "language": "python",
   "name": "python3"
  },
  "language_info": {
   "codemirror_mode": {
    "name": "ipython",
    "version": 3
   },
   "file_extension": ".py",
   "mimetype": "text/x-python",
   "name": "python",
   "nbconvert_exporter": "python",
   "pygments_lexer": "ipython3",
   "version": "3.10.12"
  }
 },
 "nbformat": 4,
 "nbformat_minor": 2
}
