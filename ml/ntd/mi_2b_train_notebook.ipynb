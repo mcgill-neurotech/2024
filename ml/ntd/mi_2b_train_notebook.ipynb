{
 "cells": [
  {
   "cell_type": "code",
   "execution_count": 5,
   "metadata": {},
   "outputs": [],
   "source": [
    "\n",
    "from diffusion_model import Diffusion\n",
    "from networks import LongConv\n",
    "from utils.kernels_and_diffusion_utils import WhiteNoiseProcess\n",
    "\n",
    "\n",
    "from torch.utils.data import DataLoader\n",
    "import torch"
   ]
  },
  {
   "cell_type": "code",
   "execution_count": 1,
   "metadata": {},
   "outputs": [],
   "source": [
    "DATA_PATH = \"C:/Repos/Python/motor-imagery-classification/data/2b_iv/\""
   ]
  },
  {
   "cell_type": "code",
   "execution_count": null,
   "metadata": {},
   "outputs": [],
   "source": [
    "def load_data(folder,idx):\n",
    "\tpath_train = os.path.join(folder,f\"B0{idx}T.mat\")\n",
    "\tpath_test = os.path.join(folder,f\"B0{idx}E.mat\")\n",
    "\tmat_train = scipy.io.loadmat(path_train)[\"data\"]\n",
    "\tmat_test = scipy.io.loadmat(path_test)[\"data\"]\n",
    "\treturn mat_train,mat_test"
   ]
  },
  {
   "cell_type": "code",
   "execution_count": null,
   "metadata": {},
   "outputs": [],
   "source": [
    "class dataset():\n",
    "    \n",
    "    def __init__(self,mat_train,mat_test):\n",
    "        self.mat_train = mat_train\n",
    "        self.mat_test = mat_test\n",
    "        \n",
    "        self.epochs = [alsgl]\n",
    "        self.cues = [0, 0, 0, 1] \n",
    "        \n",
    "        \n",
    "    def __getitem__(self, idx):\n",
    "        return {\"signal\": self.epochs[idx], \"cue\": self.cues[idx]}"
   ]
  },
  {
   "cell_type": "code",
   "execution_count": 4,
   "metadata": {},
   "outputs": [],
   "source": [
    "\n",
    "NUM_TIMESTEPS = 1000\n",
    "\n",
    "fs = 250\n",
    "length = 2\n",
    "signal_length = fs*length\n",
    "\n",
    "\n",
    "network = LongConv(\n",
    "    signal_length=signal_length,\n",
    "    signal_channel=2,\n",
    "    time_dim=10,\n",
    "    cond_channel=1,\n",
    ")\n",
    "\n",
    "noise_sampler = WhiteNoiseProcess(\n",
    "    1.0,\n",
    "    signal_length,\n",
    ")\n",
    "\n",
    "model = Diffusion(\n",
    "    network=network,\n",
    "    diffusion_time_steps=NUM_TIMESTEPS,\n",
    "    noise_sampler=noise_sampler,\n",
    "    mal_dist_computer=noise_sampler,\n",
    "    schedule=\"linear\",\n",
    "    start_beta=0.0001,\n",
    "    end_beta=0.02,\n",
    ")"
   ]
  },
  {
   "cell_type": "code",
   "execution_count": null,
   "metadata": {},
   "outputs": [],
   "source": [
    "NUM_EPOCHS = 100\n",
    "BATCH_SIZE = 32\n",
    "\n",
    "train_loader = DataLoader(data, BATCH_SIZE)\n",
    "\n",
    "optimizer = torch.optim.AdamW(model.parameters(), lr=1e-3)"
   ]
  },
  {
   "cell_type": "code",
   "execution_count": null,
   "metadata": {},
   "outputs": [],
   "source": [
    "for i in range(NUM_EPOCHS):\n",
    "    \n",
    "    for batch in train_loader:\n",
    "        \n",
    "        optimizer.zero_grad()\n",
    "        \n",
    "        signal = batch[\"signal\"]\n",
    "        cond = batch[\"cue\"]\n",
    "        \n",
    "        loss = model.train_batch(batch=signal, cond=cond)\n",
    "        loss = torch.mean(loss)\n",
    "        \n",
    "        loss.backward()\n",
    "        \n",
    "        \n",
    "        \n",
    "        "
   ]
  }
 ],
 "metadata": {
  "kernelspec": {
   "display_name": "Python 3",
   "language": "python",
   "name": "python3"
  },
  "language_info": {
   "codemirror_mode": {
    "name": "ipython",
    "version": 3
   },
   "file_extension": ".py",
   "mimetype": "text/x-python",
   "name": "python",
   "nbconvert_exporter": "python",
   "pygments_lexer": "ipython3",
   "version": "3.11.5"
  }
 },
 "nbformat": 4,
 "nbformat_minor": 2
}
